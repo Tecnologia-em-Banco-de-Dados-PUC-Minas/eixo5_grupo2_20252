{
 "cells": [
  {
   "cell_type": "code",
   "execution_count": 0,
   "metadata": {
    "application/vnd.databricks.v1+cell": {
     "cellMetadata": {
      "byteLimit": 2048000,
      "rowLimit": 10000
     },
     "inputWidgets": {},
     "nuid": "b21e1504-3207-44f3-b1b7-615e1b5fd7cd",
     "showTitle": false,
     "tableResultSettingsMap": {},
     "title": ""
    }
   },
   "outputs": [],
   "source": [
    "import sys\n",
    "from datetime import timedelta\n",
    "from pyspark.sql.functions import col, current_timestamp\n",
    "\n",
    "workspace = '/Workspace/Shared/eixo5_grupo2_20252/projeto/processamento'\n",
    "sys.path.insert(0, workspace)\n",
    "\n",
    "import schemas.schemas_bronze as sb"
   ]
  },
  {
   "cell_type": "code",
   "execution_count": 0,
   "metadata": {
    "application/vnd.databricks.v1+cell": {
     "cellMetadata": {
      "byteLimit": 2048000,
      "rowLimit": 10000
     },
     "inputWidgets": {},
     "nuid": "ac645136-1c16-4254-ae7c-2a2e68ac7583",
     "showTitle": false,
     "tableResultSettingsMap": {},
     "title": ""
    }
   },
   "outputs": [],
   "source": [
    "landing = '/Volumes/landing/raw/sistema_recomendacao/'\n",
    "catalogo = 'filmes'\n",
    "schema = 'bronze'\n",
    "\n",
    "for f in dbutils.fs.ls(landing):\n",
    "    df = spark.read.csv(f.path, header=True, schema=eval(f\"sb.{f.name[:-4]}\"))\n",
    "    \n",
    "    df = df.withColumn('data_ingestao', current_timestamp() - timedelta(hours=3))\n",
    "\n",
    "    (df.write\n",
    "        .mode('overwrite')\n",
    "        .format('delta')\n",
    "        .option('optimizeWrite', 'true')\n",
    "        .option('autoCompact', 'true')\n",
    "        .option('mergeSchema', 'true')\n",
    "        .saveAsTable(f'{catalogo}.{schema}.{f.name[:-4]}')\n",
    "    )"
   ]
  }
 ],
 "metadata": {
  "application/vnd.databricks.v1+notebook": {
   "computePreferences": {
    "hardware": {
     "accelerator": null,
     "gpuPoolId": null,
     "memory": null
    }
   },
   "dashboards": [],
   "environmentMetadata": {
    "base_environment": "",
    "environment_version": "3"
   },
   "inputWidgetPreferences": null,
   "language": "python",
   "notebookMetadata": {
    "pythonIndentUnit": 4
   },
   "notebookName": "ingestao_bronze",
   "widgets": {}
  },
  "language_info": {
   "name": "python"
  }
 },
 "nbformat": 4,
 "nbformat_minor": 0
}
