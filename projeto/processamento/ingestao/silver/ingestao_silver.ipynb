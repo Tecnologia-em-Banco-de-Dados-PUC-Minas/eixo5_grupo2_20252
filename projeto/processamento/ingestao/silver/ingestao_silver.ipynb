{
 "cells": [
  {
   "cell_type": "code",
   "execution_count": 0,
   "metadata": {
    "application/vnd.databricks.v1+cell": {
     "cellMetadata": {
      "byteLimit": 2048000,
      "rowLimit": 10000
     },
     "inputWidgets": {},
     "nuid": "db1bb5c4-79e1-4cc9-8bd6-b464bc9fd116",
     "showTitle": false,
     "tableResultSettingsMap": {},
     "title": ""
    }
   },
   "outputs": [],
   "source": [
    "import sys\n",
    "from pyspark.sql.functions import col\n",
    "\n",
    "workspace = '/Workspace/Shared/eixo5_grupo2_20252/projeto/processamento'\n",
    "sys.path.insert(0, workspace)\n",
    "\n",
    "import schemas.schemas_silver as ss"
   ]
  },
  {
   "cell_type": "code",
   "execution_count": 0,
   "metadata": {
    "application/vnd.databricks.v1+cell": {
     "cellMetadata": {
      "byteLimit": 2048000,
      "rowLimit": 10000
     },
     "inputWidgets": {},
     "nuid": "2154ba23-e119-491c-b4c7-0b9d7689e18c",
     "showTitle": false,
     "tableResultSettingsMap": {},
     "title": ""
    }
   },
   "outputs": [],
   "source": [
    "tabelas = spark.sql('SHOW TABLES IN filmes.bronze').select('tableName').collect()\n",
    "catalogo = 'filmes'\n",
    "schema = 'silver'\n",
    "\n",
    "for t in tabelas:\n",
    "    tabela = t['tableName']\n",
    "\n",
    "    df = spark.table(f'{catalogo}.bronze.{tabela}')\n",
    "    schema_silver = eval(f\"ss.{tabela}.jsonValue()\")\n",
    "\n",
    "    for v, k in schema_silver.items():\n",
    "        if v == 'fields':\n",
    "            for i in k:\n",
    "                df = df.withColumn(i['name'], col(i['name']).cast(i['type']))\n",
    "\n",
    "    (df.write\n",
    "        .mode('overwrite')\n",
    "        .format('delta')\n",
    "        .option('optimizeWrite', 'true')\n",
    "        .option('autoCompact', 'true')\n",
    "        .option('mergeSchema', 'true')\n",
    "        .saveAsTable(f'{catalogo}.{schema}.{tabela}')\n",
    "    )"
   ]
  },
  {
   "cell_type": "code",
   "execution_count": 0,
   "metadata": {
    "application/vnd.databricks.v1+cell": {
     "cellMetadata": {
      "byteLimit": 2048000,
      "rowLimit": 10000
     },
     "inputWidgets": {},
     "nuid": "98adde07-d53a-4578-be61-3748942a50ef",
     "showTitle": false,
     "tableResultSettingsMap": {
      "0": {
       "dataGridStateBlob": "{\"version\":1,\"tableState\":{\"columnPinning\":{\"left\":[\"#row_number#\"],\"right\":[]},\"columnSizing\":{},\"columnVisibility\":{}},\"settings\":{\"columns\":{}},\"syncTimestamp\":1758402753432}",
       "filterBlob": null,
       "queryPlanFiltersBlob": null,
       "tableResultIndex": 0
      }
     },
     "title": ""
    }
   },
   "outputs": [],
   "source": [
    "df.display()"
   ]
  }
 ],
 "metadata": {
  "application/vnd.databricks.v1+notebook": {
   "computePreferences": null,
   "dashboards": [],
   "environmentMetadata": {
    "base_environment": "",
    "environment_version": "3"
   },
   "inputWidgetPreferences": null,
   "language": "python",
   "notebookMetadata": {
    "pythonIndentUnit": 4
   },
   "notebookName": "ingestao_silver",
   "widgets": {}
  },
  "language_info": {
   "name": "python"
  }
 },
 "nbformat": 4,
 "nbformat_minor": 0
}
